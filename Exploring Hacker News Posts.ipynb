{
 "cells": [
  {
   "cell_type": "markdown",
   "metadata": {
    "collapsed": true
   },
   "source": [
    "<h2>Objectives:</h2>\n",
    "<li>Do \"<b>Ask HN</b>\" or \"<b>Show HN</b>\" receive more comments on average?</li>\n",
    "<li>Do posts created at a certain time receive more comments on average?</li>\n",
    "<p>Y Hacker News dataset on <b>Kaggle</b> can be found <a href=\"https://www.kaggle.com/hacker-news/hacker-news-posts\">here</a>."
   ]
  },
  {
   "cell_type": "code",
   "execution_count": 1,
   "metadata": {
    "collapsed": false
   },
   "outputs": [
    {
     "name": "stdout",
     "output_type": "stream",
     "text": [
      "[['id', 'title', 'url', 'num_points', 'num_comments', 'author', 'created_at'], ['12224879', 'Interactive Dynamic Video', 'http://www.interactivedynamicvideo.com/', '386', '52', 'ne0phyte', '8/4/2016 11:52'], ['10975351', 'How to Use Open Source and Shut the Fuck Up at the Same Time', 'http://hueniverse.com/2016/01/26/how-to-use-open-source-and-shut-the-fuck-up-at-the-same-time/', '39', '10', 'josep2', '1/26/2016 19:30'], ['11964716', \"Florida DJs May Face Felony for April Fools' Water Joke\", 'http://www.thewire.com/entertainment/2013/04/florida-djs-april-fools-water-joke/63798/', '2', '1', 'vezycash', '6/23/2016 22:20'], ['11919867', 'Technology ventures: From Idea to Enterprise', 'https://www.amazon.com/Technology-Ventures-Enterprise-Thomas-Byers/dp/0073523429', '3', '1', 'hswarna', '6/17/2016 0:01']]\n"
     ]
    }
   ],
   "source": [
    "import csv\n",
    "open_file = open(\"hacker_news.csv\")\n",
    "hn = list(csv.reader(open_file))\n",
    "print(hn[:5])    # prints out first 5 rows in a messy list format below\n",
    "headers = hn[0]  # assign header/column names to 'headers' variable\n",
    "hn = hn[1:]      # removes header so we don't have to continuously slice out header"
   ]
  },
  {
   "cell_type": "code",
   "execution_count": 2,
   "metadata": {
    "collapsed": false
   },
   "outputs": [
    {
     "name": "stdout",
     "output_type": "stream",
     "text": [
      "['id', 'title', 'url', 'num_points', 'num_comments', 'author', 'created_at']\n"
     ]
    }
   ],
   "source": [
    "print(headers)\n",
    "# column names description below"
   ]
  },
  {
   "cell_type": "markdown",
   "metadata": {},
   "source": [
    "<h3>Column Names:</h3>\n",
    "<ul><b>id</b> - The unique identifier from Hacker News for the post</ul>\n",
    "<ul><b>title</b> - The title of the post</ul>\n",
    "<ul><b>url</b> - The URL that the posts links to, if it the post has a URL</ul>\n",
    "<ul><b>num_points</b> - The number of points the post acquired, calculated as the total number of upvotes minus the total number of downvotes</ul>\n",
    "<ul><b>num_comments</b> - The number of comments that were made on the post</ul>\n",
    "<ul><b>author</b> - The username of the person who submitted the post</ul>\n",
    "<ul><b>created_at</b> - The date and time at which the post was submitted</ul></p>\n",
    "<br>\n",
    "<h3>Users submit \"Ask HN\" posts to ask the Hacker News community a specific question.</h3><br>\n",
    "<p><b>Examples:</p>\n",
    "<li>Ask HN: How to improve my personal website?</li>\n",
    "<li>Ask HN: Am I the only one outraged by Twitter shutting down share counts?</li>\n",
    "<li>Ask HN: Aby recent changes to CSS that broke mobile?</li>\n",
    "<h3>Users submit \"Show HN\" posts to show the Hacker News community a project, product, or just generally something interesting.</h3><br>\n",
    "<p><b>Examples:</p>\n",
    "<li>Show HN: Wio Link  ESP8266 Based Web of Things Hardware Development Platform'</li>\n",
    "<li>Show HN: Something pointless I made</li>\n",
    "<li>Show HN: Shanhu.io, a programming playground powered by e8vm</li>"
   ]
  },
  {
   "cell_type": "code",
   "execution_count": 3,
   "metadata": {
    "collapsed": false
   },
   "outputs": [
    {
     "name": "stdout",
     "output_type": "stream",
     "text": [
      "1744\n",
      "1162\n",
      "17194\n"
     ]
    }
   ],
   "source": [
    "ask_posts = []    # list to store 'ask hn' posts\n",
    "show_posts = []   # list to store 'show hn' posts\n",
    "other_posts = []  # other irrevelant posts\n",
    "\n",
    "# loop through each row in dataset\n",
    "for row in hn:\n",
    "    # store second column's value into title\n",
    "    title = row[1]\n",
    "    \n",
    "    if title.lower().startswith(\"ask hn\"):\n",
    "        # if value starts with 'ask hn', append to ask_posts\n",
    "        ask_posts.append(row)\n",
    "    elif title.lower().startswith(\"show hn\"):\n",
    "        # if value starts with 'show hn', append to show_posts\n",
    "        show_posts.append(row)\n",
    "    else:\n",
    "        # if it is neither, append to other_posts\n",
    "        other_posts.append(row)\n",
    "\n",
    "print(len(ask_posts))    # prints number of ask hn posts\n",
    "print(len(show_posts))   # prints number of show hn posts\n",
    "print(len(other_posts))  # prints number of other posts"
   ]
  },
  {
   "cell_type": "code",
   "execution_count": 14,
   "metadata": {
    "collapsed": false
   },
   "outputs": [
    {
     "name": "stdout",
     "output_type": "stream",
     "text": [
      "['12296411', 'Ask HN: How to improve my personal website?', '', '2', '6', 'ahmedbaracat', '8/16/2016 9:55']\n"
     ]
    }
   ],
   "source": [
    "print(ask_posts[0])    # printing to see what each row consists of, so far contains all strings"
   ]
  },
  {
   "cell_type": "code",
   "execution_count": 16,
   "metadata": {
    "collapsed": false
   },
   "outputs": [
    {
     "name": "stdout",
     "output_type": "stream",
     "text": [
      "['id', 'title', 'url', 'num_points', 'num_comments', 'author', 'created_at']\n"
     ]
    }
   ],
   "source": [
    "print(headers)    # for referencing what each column means"
   ]
  },
  {
   "cell_type": "markdown",
   "metadata": {},
   "source": [
    "<li>'id' : '12296411'</li>\n",
    "<li>'title' : 'Ask HN: How to improve my personal website?'</li>\n",
    "<li>'url' : ''</li>\n",
    "<li>'num_points' : '2'</li>\n",
    "<li>'num_comments' : '6'</li>\n",
    "<li>'author' : 'ahmedbaracat'</li>\n",
    "<li>'created_at' : '8/16/2016 9:55'</li>"
   ]
  },
  {
   "cell_type": "code",
   "execution_count": 26,
   "metadata": {
    "collapsed": false
   },
   "outputs": [
    {
     "name": "stdout",
     "output_type": "stream",
     "text": [
      "'Ask HN' num_comments average: 14.038417431192661\n"
     ]
    }
   ],
   "source": [
    "total_ask_comments = 0    # looking to see how many num_comments there are, counter begins at 0\n",
    "\n",
    "# loop through each post in new ask_posts list consisting of 'ask hn' comments\n",
    "for post in ask_posts:\n",
    "    total_ask_comments += int(post[4])    # convert num_comments to int and adding to total\n",
    "    \n",
    "avg_ask_comments = total_ask_comments/len(ask_posts)    # finding average of num_comments\n",
    "print(\"'Ask HN' num_comments average: \" + str(avg_ask_comments))"
   ]
  },
  {
   "cell_type": "code",
   "execution_count": 27,
   "metadata": {
    "collapsed": false
   },
   "outputs": [
    {
     "name": "stdout",
     "output_type": "stream",
     "text": [
      "'Show HN' num_comments average: 10.31669535283993\n"
     ]
    }
   ],
   "source": [
    "total_show_comments = 0\n",
    "\n",
    "for post in show_posts:\n",
    "    total_show_comments += int(post[4])\n",
    "    \n",
    "avg_show_comments = total_show_comments/len(show_posts)\n",
    "print(\"'Show HN' num_comments average: \" + str(avg_show_comments))"
   ]
  },
  {
   "cell_type": "markdown",
   "metadata": {},
   "source": [
    "By storing both ask comments and show comments into two different lists then comparing them by average count:<br>\n",
    "<b>'Ask HN' posts receive more comments on average although there are much more other posts.</b><br><br>\n",
    "That answers our first objective.\n",
    "Now we move on to answer our second objective, which is:<br>\n",
    "<b>Do posts created at a certain time receive more comments on average?</b>"
   ]
  },
  {
   "cell_type": "code",
   "execution_count": 18,
   "metadata": {
    "collapsed": false
   },
   "outputs": [
    {
     "data": {
      "text/plain": [
       "{'00': 447,\n",
       " '01': 683,\n",
       " '02': 1381,\n",
       " '03': 421,\n",
       " '04': 337,\n",
       " '05': 464,\n",
       " '06': 397,\n",
       " '07': 267,\n",
       " '08': 492,\n",
       " '09': 251,\n",
       " '10': 793,\n",
       " '11': 641,\n",
       " '12': 687,\n",
       " '13': 1253,\n",
       " '14': 1416,\n",
       " '15': 4477,\n",
       " '16': 1814,\n",
       " '17': 1146,\n",
       " '18': 1439,\n",
       " '19': 1188,\n",
       " '20': 1722,\n",
       " '21': 1745,\n",
       " '22': 479,\n",
       " '23': 543}"
      ]
     },
     "execution_count": 18,
     "metadata": {},
     "output_type": "execute_result"
    }
   ],
   "source": [
    "import datetime as dt    # import the datetime module\n",
    "\n",
    "result_list = []         # create an empty list to store time and number of comments\n",
    "\n",
    "for post in ask_posts:\n",
    "    result_list.append([post[6], int(post[4])])\n",
    "    # we append the time followed by number of comments to the result list\n",
    "\n",
    "comments_by_hour = {}    # dictionary to store comments by the hour\n",
    "counts_by_hour = {}      # dictionary to store counts by the hour\n",
    "\n",
    "# predetermining format for date/time\n",
    "date_format = \"%m/%d/%Y %H:%M\"\n",
    "\n",
    "# now looping through each row in the result list\n",
    "for each_row in result_list:\n",
    "    date = each_row[0]    # assigning the first element in each row as the date\n",
    "    comment = each_row[1] # assigning the second element as the comment\n",
    "    \n",
    "    # using datetime module, convert the date with format from above into 24-hrs\n",
    "    time = dt.datetime.strptime(date, date_format).strftime(\"%H\")\n",
    "    \n",
    "    # if the hour is in the counts, assign the comment value to the time key of comments by the hour\n",
    "    # then increment the time key in counts by the hour by 1\n",
    "    # otherwise assign the comment to time in comments by the hour\n",
    "    # then assign the time key in counts by the hour to 1 since the key doesn't exist in dictionary\n",
    "    if time in counts_by_hour:\n",
    "        comments_by_hour[time] += comment\n",
    "        counts_by_hour[time] += 1\n",
    "    else:\n",
    "        comments_by_hour[time] = comment\n",
    "        counts_by_hour[time] = 1\n",
    "\n",
    "comments_by_hour"
   ]
  },
  {
   "cell_type": "code",
   "execution_count": 32,
   "metadata": {
    "collapsed": false
   },
   "outputs": [
    {
     "data": {
      "text/plain": [
       "{'00': 55,\n",
       " '01': 60,\n",
       " '02': 58,\n",
       " '03': 54,\n",
       " '04': 47,\n",
       " '05': 46,\n",
       " '06': 44,\n",
       " '07': 34,\n",
       " '08': 48,\n",
       " '09': 45,\n",
       " '10': 59,\n",
       " '11': 58,\n",
       " '12': 73,\n",
       " '13': 85,\n",
       " '14': 107,\n",
       " '15': 116,\n",
       " '16': 108,\n",
       " '17': 100,\n",
       " '18': 109,\n",
       " '19': 110,\n",
       " '20': 80,\n",
       " '21': 109,\n",
       " '22': 71,\n",
       " '23': 68}"
      ]
     },
     "execution_count": 32,
     "metadata": {},
     "output_type": "execute_result"
    }
   ],
   "source": [
    "counts_by_hour"
   ]
  },
  {
   "cell_type": "code",
   "execution_count": 7,
   "metadata": {
    "collapsed": false
   },
   "outputs": [
    {
     "data": {
      "text/plain": [
       "[['18', 13.20183486238532],\n",
       " ['03', 7.796296296296297],\n",
       " ['14', 13.233644859813085],\n",
       " ['19', 10.8],\n",
       " ['00', 8.127272727272727],\n",
       " ['22', 6.746478873239437],\n",
       " ['17', 11.46],\n",
       " ['07', 7.852941176470588],\n",
       " ['01', 11.383333333333333],\n",
       " ['16', 16.796296296296298],\n",
       " ['09', 5.5777777777777775],\n",
       " ['08', 10.25],\n",
       " ['02', 23.810344827586206],\n",
       " ['20', 21.525],\n",
       " ['11', 11.051724137931034],\n",
       " ['23', 7.985294117647059],\n",
       " ['13', 14.741176470588234],\n",
       " ['12', 9.41095890410959],\n",
       " ['21', 16.009174311926607],\n",
       " ['04', 7.170212765957447],\n",
       " ['15', 38.5948275862069],\n",
       " ['10', 13.440677966101696],\n",
       " ['05', 10.08695652173913],\n",
       " ['06', 9.022727272727273]]"
      ]
     },
     "execution_count": 7,
     "metadata": {},
     "output_type": "execute_result"
    }
   ],
   "source": [
    "avg_by_hour = []    # empty list for holding average amount of comments per hour from 'Ask HN'\n",
    "\n",
    "# loop through comments by the hour\n",
    "for avg in comments_by_hour:\n",
    "    # append the key/time followed by the average of comments by the hour as a list of lists\n",
    "    # to do so, divide hourly comments by hourly counts\n",
    "    avg_by_hour.append([avg, comments_by_hour[avg]/counts_by_hour[avg]])\n",
    "    \n",
    "avg_by_hour    # prints out an unsorted list of lists in the format hour, average comments"
   ]
  },
  {
   "cell_type": "code",
   "execution_count": 29,
   "metadata": {
    "collapsed": false
   },
   "outputs": [
    {
     "data": {
      "text/plain": [
       "[[13.20183486238532, '18'],\n",
       " [7.796296296296297, '03'],\n",
       " [13.233644859813085, '14'],\n",
       " [10.8, '19'],\n",
       " [8.127272727272727, '00'],\n",
       " [6.746478873239437, '22'],\n",
       " [11.46, '17'],\n",
       " [7.852941176470588, '07'],\n",
       " [11.383333333333333, '01'],\n",
       " [16.796296296296298, '16'],\n",
       " [5.5777777777777775, '09'],\n",
       " [10.25, '08'],\n",
       " [23.810344827586206, '02'],\n",
       " [21.525, '20'],\n",
       " [11.051724137931034, '11'],\n",
       " [7.985294117647059, '23'],\n",
       " [14.741176470588234, '13'],\n",
       " [9.41095890410959, '12'],\n",
       " [16.009174311926607, '21'],\n",
       " [7.170212765957447, '04'],\n",
       " [38.5948275862069, '15'],\n",
       " [13.440677966101696, '10'],\n",
       " [10.08695652173913, '05'],\n",
       " [9.022727272727273, '06']]"
      ]
     },
     "execution_count": 29,
     "metadata": {},
     "output_type": "execute_result"
    }
   ],
   "source": [
    "# swapping the hour and average number of comments\n",
    "swap_avg_by_hour = []\n",
    "\n",
    "for row in avg_by_hour:\n",
    "    swap_avg_by_hour.append([row[1], row[0]])\n",
    "    \n",
    "swap_avg_by_hour"
   ]
  },
  {
   "cell_type": "code",
   "execution_count": 30,
   "metadata": {
    "collapsed": false
   },
   "outputs": [
    {
     "data": {
      "text/plain": [
       "[[38.5948275862069, '15'],\n",
       " [23.810344827586206, '02'],\n",
       " [21.525, '20'],\n",
       " [16.796296296296298, '16'],\n",
       " [16.009174311926607, '21'],\n",
       " [14.741176470588234, '13'],\n",
       " [13.440677966101696, '10'],\n",
       " [13.233644859813085, '14'],\n",
       " [13.20183486238532, '18'],\n",
       " [11.46, '17'],\n",
       " [11.383333333333333, '01'],\n",
       " [11.051724137931034, '11'],\n",
       " [10.8, '19'],\n",
       " [10.25, '08'],\n",
       " [10.08695652173913, '05'],\n",
       " [9.41095890410959, '12'],\n",
       " [9.022727272727273, '06'],\n",
       " [8.127272727272727, '00'],\n",
       " [7.985294117647059, '23'],\n",
       " [7.852941176470588, '07'],\n",
       " [7.796296296296297, '03'],\n",
       " [7.170212765957447, '04'],\n",
       " [6.746478873239437, '22'],\n",
       " [5.5777777777777775, '09']]"
      ]
     },
     "execution_count": 30,
     "metadata": {},
     "output_type": "execute_result"
    }
   ],
   "source": [
    "# reverse sort to show the descending average of comments by the hour\n",
    "sorted_swap = sorted(swap_avg_by_hour, reverse=True)\n",
    "sorted_swap"
   ]
  },
  {
   "cell_type": "code",
   "execution_count": 31,
   "metadata": {
    "collapsed": false
   },
   "outputs": [
    {
     "name": "stdout",
     "output_type": "stream",
     "text": [
      "Top 5 Hours for Ask Posts Comments\n",
      "15:00: 38.59 average comments per post\n",
      "02:00: 23.81 average comments per post\n",
      "20:00: 21.52 average comments per post\n",
      "16:00: 16.80 average comments per post\n",
      "21:00: 16.01 average comments per post\n"
     ]
    }
   ],
   "source": [
    "print(\"Top 5 Hours for Ask Posts Comments\")\n",
    "\n",
    "for avg, hr in sorted_swap[:5]:\n",
    "    print(\n",
    "        \"{}: {:.2f} average comments per post\".format(\n",
    "            dt.datetime.strptime(hr, \"%H\").strftime(\"%H:%M\"),avg\n",
    "        )\n",
    "    )"
   ]
  },
  {
   "cell_type": "markdown",
   "metadata": {},
   "source": [
    "<h3>Do posts created at a certain time receive more comments on average?</h3>\n",
    "<p>\n",
    "Above shows that 3PM averages the most comments per post with an average of 38.59.<br>\n",
    "Followed by 2AM, 8PM, 4PM and 9PM.\n",
    "</p>"
   ]
  }
 ],
 "metadata": {
  "kernelspec": {
   "display_name": "Python 3",
   "language": "python",
   "name": "python3"
  },
  "language_info": {
   "codemirror_mode": {
    "name": "ipython",
    "version": 3
   },
   "file_extension": ".py",
   "mimetype": "text/x-python",
   "name": "python",
   "nbconvert_exporter": "python",
   "pygments_lexer": "ipython3",
   "version": "3.4.3"
  }
 },
 "nbformat": 4,
 "nbformat_minor": 2
}
